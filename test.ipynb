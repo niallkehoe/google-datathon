{
 "cells": [
  {
   "cell_type": "code",
   "execution_count": 6,
   "metadata": {},
   "outputs": [],
   "source": [
    "from helpers.locations import *\n",
    "from helpers.drugs import *\n",
    "from helpers.dates import *\n",
    "from helpers.population import CountyNormalizer\n",
    "import pandas as pd\n",
    "import geopandas as gpd\n",
    "import matplotlib.pyplot as plt"
   ]
  },
  {
   "cell_type": "code",
   "execution_count": 7,
   "metadata": {},
   "outputs": [
    {
     "data": {
      "text/html": [
       "<div>\n",
       "<style scoped>\n",
       "    .dataframe tbody tr th:only-of-type {\n",
       "        vertical-align: middle;\n",
       "    }\n",
       "\n",
       "    .dataframe tbody tr th {\n",
       "        vertical-align: top;\n",
       "    }\n",
       "\n",
       "    .dataframe thead th {\n",
       "        text-align: right;\n",
       "    }\n",
       "</style>\n",
       "<table border=\"1\" class=\"dataframe\">\n",
       "  <thead>\n",
       "    <tr style=\"text-align: right;\">\n",
       "      <th></th>\n",
       "      <th>placeDcid</th>\n",
       "      <th>placeName</th>\n",
       "      <th>Date</th>\n",
       "      <th>US_Amphetamine</th>\n",
       "      <th>US_Codeine</th>\n",
       "      <th>US_Hydrocodone</th>\n",
       "      <th>US_Morphine</th>\n",
       "      <th>US_Oxycodone</th>\n",
       "      <th>state</th>\n",
       "      <th>Year</th>\n",
       "      <th>FIPS</th>\n",
       "      <th>population</th>\n",
       "    </tr>\n",
       "  </thead>\n",
       "  <tbody>\n",
       "    <tr>\n",
       "      <th>0</th>\n",
       "      <td>geoId/01001</td>\n",
       "      <td>Autauga County</td>\n",
       "      <td>2006-01</td>\n",
       "      <td>301.62</td>\n",
       "      <td>456.09</td>\n",
       "      <td>1484.79</td>\n",
       "      <td>472.42</td>\n",
       "      <td>720.13</td>\n",
       "      <td>Alabama</td>\n",
       "      <td>2006</td>\n",
       "      <td>01001</td>\n",
       "      <td>49105.0</td>\n",
       "    </tr>\n",
       "    <tr>\n",
       "      <th>1</th>\n",
       "      <td>geoId/01001</td>\n",
       "      <td>Autauga County</td>\n",
       "      <td>2006-04</td>\n",
       "      <td>277.00</td>\n",
       "      <td>500.07</td>\n",
       "      <td>1641.61</td>\n",
       "      <td>535.16</td>\n",
       "      <td>776.14</td>\n",
       "      <td>Alabama</td>\n",
       "      <td>2006</td>\n",
       "      <td>01001</td>\n",
       "      <td>49105.0</td>\n",
       "    </tr>\n",
       "    <tr>\n",
       "      <th>2</th>\n",
       "      <td>geoId/01001</td>\n",
       "      <td>Autauga County</td>\n",
       "      <td>2006-07</td>\n",
       "      <td>280.13</td>\n",
       "      <td>442.30</td>\n",
       "      <td>1660.31</td>\n",
       "      <td>459.76</td>\n",
       "      <td>707.36</td>\n",
       "      <td>Alabama</td>\n",
       "      <td>2006</td>\n",
       "      <td>01001</td>\n",
       "      <td>49105.0</td>\n",
       "    </tr>\n",
       "    <tr>\n",
       "      <th>3</th>\n",
       "      <td>geoId/01001</td>\n",
       "      <td>Autauga County</td>\n",
       "      <td>2006-10</td>\n",
       "      <td>323.46</td>\n",
       "      <td>425.44</td>\n",
       "      <td>1977.05</td>\n",
       "      <td>487.07</td>\n",
       "      <td>769.49</td>\n",
       "      <td>Alabama</td>\n",
       "      <td>2006</td>\n",
       "      <td>01001</td>\n",
       "      <td>49105.0</td>\n",
       "    </tr>\n",
       "    <tr>\n",
       "      <th>4</th>\n",
       "      <td>geoId/01001</td>\n",
       "      <td>Autauga County</td>\n",
       "      <td>2007-01</td>\n",
       "      <td>341.98</td>\n",
       "      <td>447.23</td>\n",
       "      <td>1989.93</td>\n",
       "      <td>528.35</td>\n",
       "      <td>763.86</td>\n",
       "      <td>Alabama</td>\n",
       "      <td>2007</td>\n",
       "      <td>01001</td>\n",
       "      <td>49834.0</td>\n",
       "    </tr>\n",
       "    <tr>\n",
       "      <th>...</th>\n",
       "      <td>...</td>\n",
       "      <td>...</td>\n",
       "      <td>...</td>\n",
       "      <td>...</td>\n",
       "      <td>...</td>\n",
       "      <td>...</td>\n",
       "      <td>...</td>\n",
       "      <td>...</td>\n",
       "      <td>...</td>\n",
       "      <td>...</td>\n",
       "      <td>...</td>\n",
       "      <td>...</td>\n",
       "    </tr>\n",
       "    <tr>\n",
       "      <th>150763</th>\n",
       "      <td>geoId/56045</td>\n",
       "      <td>Weston County</td>\n",
       "      <td>2016-10</td>\n",
       "      <td>59.48</td>\n",
       "      <td>45.19</td>\n",
       "      <td>103.31</td>\n",
       "      <td>42.03</td>\n",
       "      <td>159.98</td>\n",
       "      <td>Wyoming</td>\n",
       "      <td>2016</td>\n",
       "      <td>56045</td>\n",
       "      <td>7228.0</td>\n",
       "    </tr>\n",
       "    <tr>\n",
       "      <th>150764</th>\n",
       "      <td>geoId/56045</td>\n",
       "      <td>Weston County</td>\n",
       "      <td>2017-01</td>\n",
       "      <td>58.34</td>\n",
       "      <td>46.35</td>\n",
       "      <td>100.78</td>\n",
       "      <td>43.06</td>\n",
       "      <td>153.44</td>\n",
       "      <td>Wyoming</td>\n",
       "      <td>2017</td>\n",
       "      <td>56045</td>\n",
       "      <td>6962.0</td>\n",
       "    </tr>\n",
       "    <tr>\n",
       "      <th>150765</th>\n",
       "      <td>geoId/56045</td>\n",
       "      <td>Weston County</td>\n",
       "      <td>2017-04</td>\n",
       "      <td>54.30</td>\n",
       "      <td>32.44</td>\n",
       "      <td>95.51</td>\n",
       "      <td>52.34</td>\n",
       "      <td>154.04</td>\n",
       "      <td>Wyoming</td>\n",
       "      <td>2017</td>\n",
       "      <td>56045</td>\n",
       "      <td>6962.0</td>\n",
       "    </tr>\n",
       "    <tr>\n",
       "      <th>150766</th>\n",
       "      <td>geoId/56045</td>\n",
       "      <td>Weston County</td>\n",
       "      <td>2017-07</td>\n",
       "      <td>62.98</td>\n",
       "      <td>36.01</td>\n",
       "      <td>91.86</td>\n",
       "      <td>37.70</td>\n",
       "      <td>142.69</td>\n",
       "      <td>Wyoming</td>\n",
       "      <td>2017</td>\n",
       "      <td>56045</td>\n",
       "      <td>6962.0</td>\n",
       "    </tr>\n",
       "    <tr>\n",
       "      <th>150767</th>\n",
       "      <td>geoId/56045</td>\n",
       "      <td>Weston County</td>\n",
       "      <td>2017-10</td>\n",
       "      <td>58.19</td>\n",
       "      <td>40.66</td>\n",
       "      <td>90.30</td>\n",
       "      <td>44.63</td>\n",
       "      <td>143.20</td>\n",
       "      <td>Wyoming</td>\n",
       "      <td>2017</td>\n",
       "      <td>56045</td>\n",
       "      <td>6962.0</td>\n",
       "    </tr>\n",
       "  </tbody>\n",
       "</table>\n",
       "<p>150656 rows × 12 columns</p>\n",
       "</div>"
      ],
      "text/plain": [
       "          placeDcid       placeName     Date  US_Amphetamine  US_Codeine  \\\n",
       "0       geoId/01001  Autauga County  2006-01          301.62      456.09   \n",
       "1       geoId/01001  Autauga County  2006-04          277.00      500.07   \n",
       "2       geoId/01001  Autauga County  2006-07          280.13      442.30   \n",
       "3       geoId/01001  Autauga County  2006-10          323.46      425.44   \n",
       "4       geoId/01001  Autauga County  2007-01          341.98      447.23   \n",
       "...             ...             ...      ...             ...         ...   \n",
       "150763  geoId/56045   Weston County  2016-10           59.48       45.19   \n",
       "150764  geoId/56045   Weston County  2017-01           58.34       46.35   \n",
       "150765  geoId/56045   Weston County  2017-04           54.30       32.44   \n",
       "150766  geoId/56045   Weston County  2017-07           62.98       36.01   \n",
       "150767  geoId/56045   Weston County  2017-10           58.19       40.66   \n",
       "\n",
       "        US_Hydrocodone  US_Morphine  US_Oxycodone    state  Year   FIPS  \\\n",
       "0              1484.79       472.42        720.13  Alabama  2006  01001   \n",
       "1              1641.61       535.16        776.14  Alabama  2006  01001   \n",
       "2              1660.31       459.76        707.36  Alabama  2006  01001   \n",
       "3              1977.05       487.07        769.49  Alabama  2006  01001   \n",
       "4              1989.93       528.35        763.86  Alabama  2007  01001   \n",
       "...                ...          ...           ...      ...   ...    ...   \n",
       "150763          103.31        42.03        159.98  Wyoming  2016  56045   \n",
       "150764          100.78        43.06        153.44  Wyoming  2017  56045   \n",
       "150765           95.51        52.34        154.04  Wyoming  2017  56045   \n",
       "150766           91.86        37.70        142.69  Wyoming  2017  56045   \n",
       "150767           90.30        44.63        143.20  Wyoming  2017  56045   \n",
       "\n",
       "        population  \n",
       "0          49105.0  \n",
       "1          49105.0  \n",
       "2          49105.0  \n",
       "3          49105.0  \n",
       "4          49834.0  \n",
       "...            ...  \n",
       "150763      7228.0  \n",
       "150764      6962.0  \n",
       "150765      6962.0  \n",
       "150766      6962.0  \n",
       "150767      6962.0  \n",
       "\n",
       "[150656 rows x 12 columns]"
      ]
     },
     "execution_count": 7,
     "metadata": {},
     "output_type": "execute_result"
    }
   ],
   "source": [
    "county_normalizer = CountyNormalizer()\n",
    "\n",
    "# df_drug = pd.read_csv(\"data/drugs/US_Oxycodone.csv\")\n",
    "DRUG_NAMES = [\"US_Amphetamine\", \"US_Codeine\", \"US_Hydrocodone\", \"US_Morphine\", \"US_Oxycodone\"]\n",
    "df_drug = get_drugs_dfs(DRUG_NAMES)\n",
    "df_drug = df_drug.generate_state_column(\"placeDcid\")\n",
    "df_drug = df_drug.generate_year()\n",
    "df_drug['FIPS'] = df_drug['placeDcid'].str.split('/').str[-1]\n",
    "df_drug[\"population\"] = df_drug.apply(county_normalizer.get_population, axis=1)\n",
    "df_drug.dropna(inplace= True)\n",
    "df_drug"
   ]
  },
  {
   "cell_type": "code",
   "execution_count": 8,
   "metadata": {},
   "outputs": [
    {
     "data": {
      "text/html": [
       "<div>\n",
       "<style scoped>\n",
       "    .dataframe tbody tr th:only-of-type {\n",
       "        vertical-align: middle;\n",
       "    }\n",
       "\n",
       "    .dataframe tbody tr th {\n",
       "        vertical-align: top;\n",
       "    }\n",
       "\n",
       "    .dataframe thead th {\n",
       "        text-align: right;\n",
       "    }\n",
       "</style>\n",
       "<table border=\"1\" class=\"dataframe\">\n",
       "  <thead>\n",
       "    <tr style=\"text-align: right;\">\n",
       "      <th></th>\n",
       "      <th>placeDcid</th>\n",
       "      <th>placeName</th>\n",
       "      <th>Date</th>\n",
       "      <th>US_Amphetamine</th>\n",
       "      <th>US_Codeine</th>\n",
       "      <th>US_Hydrocodone</th>\n",
       "      <th>US_Morphine</th>\n",
       "      <th>US_Oxycodone</th>\n",
       "      <th>state</th>\n",
       "      <th>Year</th>\n",
       "      <th>FIPS</th>\n",
       "      <th>population</th>\n",
       "    </tr>\n",
       "  </thead>\n",
       "  <tbody>\n",
       "    <tr>\n",
       "      <th>0</th>\n",
       "      <td>geoId/01001</td>\n",
       "      <td>Autauga County</td>\n",
       "      <td>2006-01</td>\n",
       "      <td>0.006142</td>\n",
       "      <td>0.009288</td>\n",
       "      <td>0.030237</td>\n",
       "      <td>0.009621</td>\n",
       "      <td>0.014665</td>\n",
       "      <td>Alabama</td>\n",
       "      <td>2006</td>\n",
       "      <td>01001</td>\n",
       "      <td>49105.0</td>\n",
       "    </tr>\n",
       "    <tr>\n",
       "      <th>1</th>\n",
       "      <td>geoId/01001</td>\n",
       "      <td>Autauga County</td>\n",
       "      <td>2006-04</td>\n",
       "      <td>0.005641</td>\n",
       "      <td>0.010184</td>\n",
       "      <td>0.033431</td>\n",
       "      <td>0.010898</td>\n",
       "      <td>0.015806</td>\n",
       "      <td>Alabama</td>\n",
       "      <td>2006</td>\n",
       "      <td>01001</td>\n",
       "      <td>49105.0</td>\n",
       "    </tr>\n",
       "    <tr>\n",
       "      <th>2</th>\n",
       "      <td>geoId/01001</td>\n",
       "      <td>Autauga County</td>\n",
       "      <td>2006-07</td>\n",
       "      <td>0.005705</td>\n",
       "      <td>0.009007</td>\n",
       "      <td>0.033811</td>\n",
       "      <td>0.009363</td>\n",
       "      <td>0.014405</td>\n",
       "      <td>Alabama</td>\n",
       "      <td>2006</td>\n",
       "      <td>01001</td>\n",
       "      <td>49105.0</td>\n",
       "    </tr>\n",
       "    <tr>\n",
       "      <th>3</th>\n",
       "      <td>geoId/01001</td>\n",
       "      <td>Autauga County</td>\n",
       "      <td>2006-10</td>\n",
       "      <td>0.006587</td>\n",
       "      <td>0.008664</td>\n",
       "      <td>0.040262</td>\n",
       "      <td>0.009919</td>\n",
       "      <td>0.015670</td>\n",
       "      <td>Alabama</td>\n",
       "      <td>2006</td>\n",
       "      <td>01001</td>\n",
       "      <td>49105.0</td>\n",
       "    </tr>\n",
       "    <tr>\n",
       "      <th>4</th>\n",
       "      <td>geoId/01001</td>\n",
       "      <td>Autauga County</td>\n",
       "      <td>2007-01</td>\n",
       "      <td>0.006862</td>\n",
       "      <td>0.008974</td>\n",
       "      <td>0.039931</td>\n",
       "      <td>0.010602</td>\n",
       "      <td>0.015328</td>\n",
       "      <td>Alabama</td>\n",
       "      <td>2007</td>\n",
       "      <td>01001</td>\n",
       "      <td>49834.0</td>\n",
       "    </tr>\n",
       "    <tr>\n",
       "      <th>...</th>\n",
       "      <td>...</td>\n",
       "      <td>...</td>\n",
       "      <td>...</td>\n",
       "      <td>...</td>\n",
       "      <td>...</td>\n",
       "      <td>...</td>\n",
       "      <td>...</td>\n",
       "      <td>...</td>\n",
       "      <td>...</td>\n",
       "      <td>...</td>\n",
       "      <td>...</td>\n",
       "      <td>...</td>\n",
       "    </tr>\n",
       "    <tr>\n",
       "      <th>150763</th>\n",
       "      <td>geoId/56045</td>\n",
       "      <td>Weston County</td>\n",
       "      <td>2016-10</td>\n",
       "      <td>0.008229</td>\n",
       "      <td>0.006252</td>\n",
       "      <td>0.014293</td>\n",
       "      <td>0.005815</td>\n",
       "      <td>0.022133</td>\n",
       "      <td>Wyoming</td>\n",
       "      <td>2016</td>\n",
       "      <td>56045</td>\n",
       "      <td>7228.0</td>\n",
       "    </tr>\n",
       "    <tr>\n",
       "      <th>150764</th>\n",
       "      <td>geoId/56045</td>\n",
       "      <td>Weston County</td>\n",
       "      <td>2017-01</td>\n",
       "      <td>0.008380</td>\n",
       "      <td>0.006658</td>\n",
       "      <td>0.014476</td>\n",
       "      <td>0.006185</td>\n",
       "      <td>0.022040</td>\n",
       "      <td>Wyoming</td>\n",
       "      <td>2017</td>\n",
       "      <td>56045</td>\n",
       "      <td>6962.0</td>\n",
       "    </tr>\n",
       "    <tr>\n",
       "      <th>150765</th>\n",
       "      <td>geoId/56045</td>\n",
       "      <td>Weston County</td>\n",
       "      <td>2017-04</td>\n",
       "      <td>0.007799</td>\n",
       "      <td>0.004660</td>\n",
       "      <td>0.013719</td>\n",
       "      <td>0.007518</td>\n",
       "      <td>0.022126</td>\n",
       "      <td>Wyoming</td>\n",
       "      <td>2017</td>\n",
       "      <td>56045</td>\n",
       "      <td>6962.0</td>\n",
       "    </tr>\n",
       "    <tr>\n",
       "      <th>150766</th>\n",
       "      <td>geoId/56045</td>\n",
       "      <td>Weston County</td>\n",
       "      <td>2017-07</td>\n",
       "      <td>0.009046</td>\n",
       "      <td>0.005172</td>\n",
       "      <td>0.013194</td>\n",
       "      <td>0.005415</td>\n",
       "      <td>0.020496</td>\n",
       "      <td>Wyoming</td>\n",
       "      <td>2017</td>\n",
       "      <td>56045</td>\n",
       "      <td>6962.0</td>\n",
       "    </tr>\n",
       "    <tr>\n",
       "      <th>150767</th>\n",
       "      <td>geoId/56045</td>\n",
       "      <td>Weston County</td>\n",
       "      <td>2017-10</td>\n",
       "      <td>0.008358</td>\n",
       "      <td>0.005840</td>\n",
       "      <td>0.012970</td>\n",
       "      <td>0.006411</td>\n",
       "      <td>0.020569</td>\n",
       "      <td>Wyoming</td>\n",
       "      <td>2017</td>\n",
       "      <td>56045</td>\n",
       "      <td>6962.0</td>\n",
       "    </tr>\n",
       "  </tbody>\n",
       "</table>\n",
       "<p>150656 rows × 12 columns</p>\n",
       "</div>"
      ],
      "text/plain": [
       "          placeDcid       placeName     Date  US_Amphetamine  US_Codeine  \\\n",
       "0       geoId/01001  Autauga County  2006-01        0.006142    0.009288   \n",
       "1       geoId/01001  Autauga County  2006-04        0.005641    0.010184   \n",
       "2       geoId/01001  Autauga County  2006-07        0.005705    0.009007   \n",
       "3       geoId/01001  Autauga County  2006-10        0.006587    0.008664   \n",
       "4       geoId/01001  Autauga County  2007-01        0.006862    0.008974   \n",
       "...             ...             ...      ...             ...         ...   \n",
       "150763  geoId/56045   Weston County  2016-10        0.008229    0.006252   \n",
       "150764  geoId/56045   Weston County  2017-01        0.008380    0.006658   \n",
       "150765  geoId/56045   Weston County  2017-04        0.007799    0.004660   \n",
       "150766  geoId/56045   Weston County  2017-07        0.009046    0.005172   \n",
       "150767  geoId/56045   Weston County  2017-10        0.008358    0.005840   \n",
       "\n",
       "        US_Hydrocodone  US_Morphine  US_Oxycodone    state  Year   FIPS  \\\n",
       "0             0.030237     0.009621      0.014665  Alabama  2006  01001   \n",
       "1             0.033431     0.010898      0.015806  Alabama  2006  01001   \n",
       "2             0.033811     0.009363      0.014405  Alabama  2006  01001   \n",
       "3             0.040262     0.009919      0.015670  Alabama  2006  01001   \n",
       "4             0.039931     0.010602      0.015328  Alabama  2007  01001   \n",
       "...                ...          ...           ...      ...   ...    ...   \n",
       "150763        0.014293     0.005815      0.022133  Wyoming  2016  56045   \n",
       "150764        0.014476     0.006185      0.022040  Wyoming  2017  56045   \n",
       "150765        0.013719     0.007518      0.022126  Wyoming  2017  56045   \n",
       "150766        0.013194     0.005415      0.020496  Wyoming  2017  56045   \n",
       "150767        0.012970     0.006411      0.020569  Wyoming  2017  56045   \n",
       "\n",
       "        population  \n",
       "0          49105.0  \n",
       "1          49105.0  \n",
       "2          49105.0  \n",
       "3          49105.0  \n",
       "4          49834.0  \n",
       "...            ...  \n",
       "150763      7228.0  \n",
       "150764      6962.0  \n",
       "150765      6962.0  \n",
       "150766      6962.0  \n",
       "150767      6962.0  \n",
       "\n",
       "[150656 rows x 12 columns]"
      ]
     },
     "execution_count": 8,
     "metadata": {},
     "output_type": "execute_result"
    }
   ],
   "source": [
    "# Loop through each drug column and divide by 'population' column\n",
    "for drug in DRUG_NAMES:\n",
    "    df_drug[drug] = df_drug[drug] / df_drug['population']\n",
    "df_drug"
   ]
  },
  {
   "cell_type": "code",
   "execution_count": 14,
   "metadata": {},
   "outputs": [
    {
     "data": {
      "text/html": [
       "<div>\n",
       "<style scoped>\n",
       "    .dataframe tbody tr th:only-of-type {\n",
       "        vertical-align: middle;\n",
       "    }\n",
       "\n",
       "    .dataframe tbody tr th {\n",
       "        vertical-align: top;\n",
       "    }\n",
       "\n",
       "    .dataframe thead th {\n",
       "        text-align: right;\n",
       "    }\n",
       "</style>\n",
       "<table border=\"1\" class=\"dataframe\">\n",
       "  <thead>\n",
       "    <tr style=\"text-align: right;\">\n",
       "      <th></th>\n",
       "      <th>placeDcid</th>\n",
       "      <th>placeName</th>\n",
       "      <th>Date</th>\n",
       "      <th>US_Amphetamine</th>\n",
       "      <th>US_Codeine</th>\n",
       "      <th>US_Hydrocodone</th>\n",
       "      <th>US_Morphine</th>\n",
       "      <th>US_Oxycodone</th>\n",
       "      <th>state</th>\n",
       "      <th>Year</th>\n",
       "      <th>FIPS</th>\n",
       "      <th>population</th>\n",
       "    </tr>\n",
       "  </thead>\n",
       "  <tbody>\n",
       "    <tr>\n",
       "      <th>0</th>\n",
       "      <td>geoId/01001</td>\n",
       "      <td>Autauga County</td>\n",
       "      <td>2006-01</td>\n",
       "      <td>0.006142</td>\n",
       "      <td>0.009288</td>\n",
       "      <td>0.030237</td>\n",
       "      <td>0.009621</td>\n",
       "      <td>0.014665</td>\n",
       "      <td>Alabama</td>\n",
       "      <td>2006</td>\n",
       "      <td>01001</td>\n",
       "      <td>49105.0</td>\n",
       "    </tr>\n",
       "    <tr>\n",
       "      <th>1</th>\n",
       "      <td>geoId/01001</td>\n",
       "      <td>Autauga County</td>\n",
       "      <td>2006-04</td>\n",
       "      <td>0.005641</td>\n",
       "      <td>0.010184</td>\n",
       "      <td>0.033431</td>\n",
       "      <td>0.010898</td>\n",
       "      <td>0.015806</td>\n",
       "      <td>Alabama</td>\n",
       "      <td>2006</td>\n",
       "      <td>01001</td>\n",
       "      <td>49105.0</td>\n",
       "    </tr>\n",
       "    <tr>\n",
       "      <th>2</th>\n",
       "      <td>geoId/01001</td>\n",
       "      <td>Autauga County</td>\n",
       "      <td>2006-07</td>\n",
       "      <td>0.005705</td>\n",
       "      <td>0.009007</td>\n",
       "      <td>0.033811</td>\n",
       "      <td>0.009363</td>\n",
       "      <td>0.014405</td>\n",
       "      <td>Alabama</td>\n",
       "      <td>2006</td>\n",
       "      <td>01001</td>\n",
       "      <td>49105.0</td>\n",
       "    </tr>\n",
       "    <tr>\n",
       "      <th>3</th>\n",
       "      <td>geoId/01001</td>\n",
       "      <td>Autauga County</td>\n",
       "      <td>2006-10</td>\n",
       "      <td>0.006587</td>\n",
       "      <td>0.008664</td>\n",
       "      <td>0.040262</td>\n",
       "      <td>0.009919</td>\n",
       "      <td>0.015670</td>\n",
       "      <td>Alabama</td>\n",
       "      <td>2006</td>\n",
       "      <td>01001</td>\n",
       "      <td>49105.0</td>\n",
       "    </tr>\n",
       "    <tr>\n",
       "      <th>4</th>\n",
       "      <td>geoId/01001</td>\n",
       "      <td>Autauga County</td>\n",
       "      <td>2007-01</td>\n",
       "      <td>0.006862</td>\n",
       "      <td>0.008974</td>\n",
       "      <td>0.039931</td>\n",
       "      <td>0.010602</td>\n",
       "      <td>0.015328</td>\n",
       "      <td>Alabama</td>\n",
       "      <td>2007</td>\n",
       "      <td>01001</td>\n",
       "      <td>49834.0</td>\n",
       "    </tr>\n",
       "    <tr>\n",
       "      <th>...</th>\n",
       "      <td>...</td>\n",
       "      <td>...</td>\n",
       "      <td>...</td>\n",
       "      <td>...</td>\n",
       "      <td>...</td>\n",
       "      <td>...</td>\n",
       "      <td>...</td>\n",
       "      <td>...</td>\n",
       "      <td>...</td>\n",
       "      <td>...</td>\n",
       "      <td>...</td>\n",
       "      <td>...</td>\n",
       "    </tr>\n",
       "    <tr>\n",
       "      <th>150763</th>\n",
       "      <td>geoId/56045</td>\n",
       "      <td>Weston County</td>\n",
       "      <td>2016-10</td>\n",
       "      <td>0.008229</td>\n",
       "      <td>0.006252</td>\n",
       "      <td>0.014293</td>\n",
       "      <td>0.005815</td>\n",
       "      <td>0.022133</td>\n",
       "      <td>Wyoming</td>\n",
       "      <td>2016</td>\n",
       "      <td>56045</td>\n",
       "      <td>7228.0</td>\n",
       "    </tr>\n",
       "    <tr>\n",
       "      <th>150764</th>\n",
       "      <td>geoId/56045</td>\n",
       "      <td>Weston County</td>\n",
       "      <td>2017-01</td>\n",
       "      <td>0.008380</td>\n",
       "      <td>0.006658</td>\n",
       "      <td>0.014476</td>\n",
       "      <td>0.006185</td>\n",
       "      <td>0.022040</td>\n",
       "      <td>Wyoming</td>\n",
       "      <td>2017</td>\n",
       "      <td>56045</td>\n",
       "      <td>6962.0</td>\n",
       "    </tr>\n",
       "    <tr>\n",
       "      <th>150765</th>\n",
       "      <td>geoId/56045</td>\n",
       "      <td>Weston County</td>\n",
       "      <td>2017-04</td>\n",
       "      <td>0.007799</td>\n",
       "      <td>0.004660</td>\n",
       "      <td>0.013719</td>\n",
       "      <td>0.007518</td>\n",
       "      <td>0.022126</td>\n",
       "      <td>Wyoming</td>\n",
       "      <td>2017</td>\n",
       "      <td>56045</td>\n",
       "      <td>6962.0</td>\n",
       "    </tr>\n",
       "    <tr>\n",
       "      <th>150766</th>\n",
       "      <td>geoId/56045</td>\n",
       "      <td>Weston County</td>\n",
       "      <td>2017-07</td>\n",
       "      <td>0.009046</td>\n",
       "      <td>0.005172</td>\n",
       "      <td>0.013194</td>\n",
       "      <td>0.005415</td>\n",
       "      <td>0.020496</td>\n",
       "      <td>Wyoming</td>\n",
       "      <td>2017</td>\n",
       "      <td>56045</td>\n",
       "      <td>6962.0</td>\n",
       "    </tr>\n",
       "    <tr>\n",
       "      <th>150767</th>\n",
       "      <td>geoId/56045</td>\n",
       "      <td>Weston County</td>\n",
       "      <td>2017-10</td>\n",
       "      <td>0.008358</td>\n",
       "      <td>0.005840</td>\n",
       "      <td>0.012970</td>\n",
       "      <td>0.006411</td>\n",
       "      <td>0.020569</td>\n",
       "      <td>Wyoming</td>\n",
       "      <td>2017</td>\n",
       "      <td>56045</td>\n",
       "      <td>6962.0</td>\n",
       "    </tr>\n",
       "  </tbody>\n",
       "</table>\n",
       "<p>150656 rows × 12 columns</p>\n",
       "</div>"
      ],
      "text/plain": [
       "          placeDcid       placeName     Date  US_Amphetamine  US_Codeine  \\\n",
       "0       geoId/01001  Autauga County  2006-01        0.006142    0.009288   \n",
       "1       geoId/01001  Autauga County  2006-04        0.005641    0.010184   \n",
       "2       geoId/01001  Autauga County  2006-07        0.005705    0.009007   \n",
       "3       geoId/01001  Autauga County  2006-10        0.006587    0.008664   \n",
       "4       geoId/01001  Autauga County  2007-01        0.006862    0.008974   \n",
       "...             ...             ...      ...             ...         ...   \n",
       "150763  geoId/56045   Weston County  2016-10        0.008229    0.006252   \n",
       "150764  geoId/56045   Weston County  2017-01        0.008380    0.006658   \n",
       "150765  geoId/56045   Weston County  2017-04        0.007799    0.004660   \n",
       "150766  geoId/56045   Weston County  2017-07        0.009046    0.005172   \n",
       "150767  geoId/56045   Weston County  2017-10        0.008358    0.005840   \n",
       "\n",
       "        US_Hydrocodone  US_Morphine  US_Oxycodone    state  Year   FIPS  \\\n",
       "0             0.030237     0.009621      0.014665  Alabama  2006  01001   \n",
       "1             0.033431     0.010898      0.015806  Alabama  2006  01001   \n",
       "2             0.033811     0.009363      0.014405  Alabama  2006  01001   \n",
       "3             0.040262     0.009919      0.015670  Alabama  2006  01001   \n",
       "4             0.039931     0.010602      0.015328  Alabama  2007  01001   \n",
       "...                ...          ...           ...      ...   ...    ...   \n",
       "150763        0.014293     0.005815      0.022133  Wyoming  2016  56045   \n",
       "150764        0.014476     0.006185      0.022040  Wyoming  2017  56045   \n",
       "150765        0.013719     0.007518      0.022126  Wyoming  2017  56045   \n",
       "150766        0.013194     0.005415      0.020496  Wyoming  2017  56045   \n",
       "150767        0.012970     0.006411      0.020569  Wyoming  2017  56045   \n",
       "\n",
       "        population  \n",
       "0          49105.0  \n",
       "1          49105.0  \n",
       "2          49105.0  \n",
       "3          49105.0  \n",
       "4          49834.0  \n",
       "...            ...  \n",
       "150763      7228.0  \n",
       "150764      6962.0  \n",
       "150765      6962.0  \n",
       "150766      6962.0  \n",
       "150767      6962.0  \n",
       "\n",
       "[150656 rows x 12 columns]"
      ]
     },
     "execution_count": 14,
     "metadata": {},
     "output_type": "execute_result"
    }
   ],
   "source": [
    "df_drug"
   ]
  },
  {
   "cell_type": "code",
   "execution_count": null,
   "metadata": {},
   "outputs": [],
   "source": []
  },
  {
   "cell_type": "markdown",
   "metadata": {},
   "source": [
    "## Correlations"
   ]
  },
  {
   "cell_type": "code",
   "execution_count": 143,
   "metadata": {},
   "outputs": [],
   "source": [
    "number_of_counties_per_date = df_drug[(df_drug['Date'] >= '2015-01')].groupby(['Date'])['placeDcid'].count().reset_index()\n",
    "number_of_counties_per_date.columns = ['Date', 'num_counties']\n",
    "grouped_df_drug_all = df_drug[(df_drug['Date'] >= '2015-01')].groupby(['Date']).sum().reset_index()\n",
    "for drug in DRUG_NAMES:\n",
    "    grouped_df_drug_all[drug] = grouped_df_drug_all[drug] / number_of_counties_per_date['num_counties']\n",
    "codeine_and_hydrocodone = grouped_df_drug_all[['US_Codeine']].sum(axis=1).sum()\n",
    "all_drugs = grouped_df_drug_all[['US_Amphetamine', 'US_Codeine', 'US_Hydrocodone', 'US_Morphine', 'US_Oxycodone']].sum(axis=1).sum()\n",
    "\n",
    "states = list(df_drug['state'].unique())\n",
    "codeine_values = []\n",
    "all_values = []\n",
    "\n",
    "for state in states:\n",
    "    number_of_counties_per_date_st = df_drug[(df_drug['Date'] >= '2015-01') & (df_drug['state'] == state)].groupby(['Date'])['placeDcid'].count().reset_index()\n",
    "    number_of_counties_per_date_st.columns = ['Date', 'num_counties']\n",
    "    grouped_df_drug_st = df_drug[(df_drug['Date'] >= '2015-01') & (df_drug['state'] == state)].groupby(['Date']).sum().reset_index()\n",
    "    for drug in DRUG_NAMES:\n",
    "        grouped_df_drug_st[drug] = grouped_df_drug_st[drug] / number_of_counties_per_date_st['num_counties']\n",
    "    codeine_values.append((grouped_df_drug_st[['US_Codeine']].sum(axis=1).sum() / codeine_and_hydrocodone))\n",
    "    all_values.append((grouped_df_drug_st[['US_Amphetamine', 'US_Codeine', 'US_Hydrocodone', 'US_Morphine', 'US_Oxycodone']].sum(axis=1).sum() / all_drugs))"
   ]
  },
  {
   "cell_type": "code",
   "execution_count": 146,
   "metadata": {},
   "outputs": [
    {
     "data": {
      "image/png": "[encoded data removed]",
      "text/plain": [
       "<Figure size 640x480 with 1 Axes>"
      ]
     },
     "metadata": {},
     "output_type": "display_data"
    }
   ],
   "source": [
    "plt.scatter(all_values, codeine_values)\n",
    "# make a label on the point if the state is Texas\n",
    "for i, state in enumerate(states):\n",
    "    if codeine_values[i] > 1.25:\n",
    "        plt.text(all_values[i], codeine_values[i], state)\n",
    "\n",
    "plt.title('High Prescription Codeine States')\n",
    "plt.xlabel('All Drugs (g/capita normalized by average county)')\n",
    "plt.ylabel('Codeine (g/capita normalized by average county)')\n",
    "plt.show()"
   ]
  },
  {
   "cell_type": "code",
   "execution_count": 148,
   "metadata": {},
   "outputs": [
    {
     "ename": "ValueError",
     "evalue": "Mime type rendering requires nbformat>=4.2.0 but it is not installed",
     "output_type": "error",
     "traceback": [
      "\u001b[0;31m---------------------------------------------------------------------------\u001b[0m",
      "\u001b[0;31mValueError\u001b[0m                                Traceback (most recent call last)",
      "File \u001b[0;32m~/miniforge3/envs/2023/lib/python3.11/site-packages/IPython/core/formatters.py:922\u001b[0m, in \u001b[0;36mIPythonDisplayFormatter.__call__\u001b[0;34m(self, obj)\u001b[0m\n\u001b[1;32m    920\u001b[0m method \u001b[38;5;241m=\u001b[39m get_real_method(obj, \u001b[38;5;28mself\u001b[39m\u001b[38;5;241m.\u001b[39mprint_method)\n\u001b[1;32m    921\u001b[0m \u001b[38;5;28;01mif\u001b[39;00m method \u001b[38;5;129;01mis\u001b[39;00m \u001b[38;5;129;01mnot\u001b[39;00m \u001b[38;5;28;01mNone\u001b[39;00m:\n\u001b[0;32m--> 922\u001b[0m     \u001b[43mmethod\u001b[49m\u001b[43m(\u001b[49m\u001b[43m)\u001b[49m\n\u001b[1;32m    923\u001b[0m     \u001b[38;5;28;01mreturn\u001b[39;00m \u001b[38;5;28;01mTrue\u001b[39;00m\n",
      "File \u001b[0;32m~/miniforge3/envs/2023/lib/python3.11/site-packages/plotly/basedatatypes.py:832\u001b[0m, in \u001b[0;36mBaseFigure._ipython_display_\u001b[0;34m(self)\u001b[0m\n\u001b[1;32m    829\u001b[0m \u001b[38;5;28;01mimport\u001b[39;00m \u001b[38;5;21;01mplotly\u001b[39;00m\u001b[38;5;21;01m.\u001b[39;00m\u001b[38;5;21;01mio\u001b[39;00m \u001b[38;5;28;01mas\u001b[39;00m \u001b[38;5;21;01mpio\u001b[39;00m\n\u001b[1;32m    831\u001b[0m \u001b[38;5;28;01mif\u001b[39;00m pio\u001b[38;5;241m.\u001b[39mrenderers\u001b[38;5;241m.\u001b[39mrender_on_display \u001b[38;5;129;01mand\u001b[39;00m pio\u001b[38;5;241m.\u001b[39mrenderers\u001b[38;5;241m.\u001b[39mdefault:\n\u001b[0;32m--> 832\u001b[0m     \u001b[43mpio\u001b[49m\u001b[38;5;241;43m.\u001b[39;49m\u001b[43mshow\u001b[49m\u001b[43m(\u001b[49m\u001b[38;5;28;43mself\u001b[39;49m\u001b[43m)\u001b[49m\n\u001b[1;32m    833\u001b[0m \u001b[38;5;28;01melse\u001b[39;00m:\n\u001b[1;32m    834\u001b[0m     \u001b[38;5;28mprint\u001b[39m(\u001b[38;5;28mrepr\u001b[39m(\u001b[38;5;28mself\u001b[39m))\n",
      "File \u001b[0;32m~/miniforge3/envs/2023/lib/python3.11/site-packages/plotly/io/_renderers.py:394\u001b[0m, in \u001b[0;36mshow\u001b[0;34m(fig, renderer, validate, **kwargs)\u001b[0m\n\u001b[1;32m    389\u001b[0m         \u001b[38;5;28;01mraise\u001b[39;00m \u001b[38;5;167;01mValueError\u001b[39;00m(\n\u001b[1;32m    390\u001b[0m             \u001b[38;5;124m\"\u001b[39m\u001b[38;5;124mMime type rendering requires ipython but it is not installed\u001b[39m\u001b[38;5;124m\"\u001b[39m\n\u001b[1;32m    391\u001b[0m         )\n\u001b[1;32m    393\u001b[0m     \u001b[38;5;28;01mif\u001b[39;00m \u001b[38;5;129;01mnot\u001b[39;00m nbformat \u001b[38;5;129;01mor\u001b[39;00m Version(nbformat\u001b[38;5;241m.\u001b[39m__version__) \u001b[38;5;241m<\u001b[39m Version(\u001b[38;5;124m\"\u001b[39m\u001b[38;5;124m4.2.0\u001b[39m\u001b[38;5;124m\"\u001b[39m):\n\u001b[0;32m--> 394\u001b[0m         \u001b[38;5;28;01mraise\u001b[39;00m \u001b[38;5;167;01mValueError\u001b[39;00m(\n\u001b[1;32m    395\u001b[0m             \u001b[38;5;124m\"\u001b[39m\u001b[38;5;124mMime type rendering requires nbformat>=4.2.0 but it is not installed\u001b[39m\u001b[38;5;124m\"\u001b[39m\n\u001b[1;32m    396\u001b[0m         )\n\u001b[1;32m    398\u001b[0m     ipython_display\u001b[38;5;241m.\u001b[39mdisplay(bundle, raw\u001b[38;5;241m=\u001b[39m\u001b[38;5;28;01mTrue\u001b[39;00m)\n\u001b[1;32m    400\u001b[0m \u001b[38;5;66;03m# external renderers\u001b[39;00m\n",
      "\u001b[0;31mValueError\u001b[0m: Mime type rendering requires nbformat>=4.2.0 but it is not installed"
     ]
    },
    {
     "data": {
      "application/vnd.plotly.v1+json": {
       "config": {
        "plotlyServerURL": "https://plot.ly"
       },
       "data": [
        {
         "marker": {
          "color": "blue",
          "size": 10
         },
         "mode": "markers+text",
         "name": "States",
         "text": [
          "",
          "",
          "",
          "Arkansas",
          "",
          "",
          "",
          "",
          "",
          "",
          "",
          "",
          "",
          "",
          "",
          "",
          "",
          "",
          "",
          "",
          "",
          "Michigan",
          "",
          "",
          "",
          "",
          "",
          "",
          "",
          "",
          "",
          "",
          "",
          "",
          "",
          "Oklahoma",
          "",
          "",
          "",
          "",
          "",
          "",
          "Texas",
          "",
          "",
          "",
          "",
          "",
          "",
          ""
         ],
         "textposition": "top center",
         "type": "scatter",
         "x": [
          1.384751947574949,
          0.8164655097025574,
          1.219541408531164,
          1.391296368425977,
          1.0396894792696414,
          0.8139521052097489,
          0.8454129859267933,
          1.2096315949812704,
          1.0656846737558348,
          1.065984200207729,
          0.6894633993616822,
          0.9981389593996246,
          0.8384794478329609,
          1.0258099844630082,
          0.5838709018427644,
          0.9467555010499944,
          1.246722909679164,
          1.16374357205404,
          0.9303388392228549,
          1.0277356138580238,
          0.8435039863427997,
          1.2415621432185622,
          0.5878665524049578,
          1.05623312546876,
          1.1016062170624548,
          0.9186817495162557,
          0.5522171438963108,
          1.176509220302283,
          0.9493066180161456,
          0.9611203410830047,
          0.788980648097515,
          0.8128692346856473,
          1.1341392573394964,
          0.5793473031666245,
          0.8502797986607304,
          1.4481882790040734,
          1.0712031729420852,
          1.0694689249259293,
          0.9236216405510753,
          1.2044848093377167,
          0.537880608612906,
          1.6752628490084587,
          0.9057826306976229,
          1.2364072591350517,
          0.7476693987592572,
          0.9414909870057718,
          1.0090011801881993,
          1.1627789190222462,
          0.8230827574542896,
          0.9367248283485042
         ],
         "y": [
          0.8992297623891273,
          0.771066054366228,
          0.7760360288944704,
          2.262134489505721,
          1.0319860257107385,
          0.448486547220951,
          0.5294326534556983,
          0.7358491732677505,
          0.6165707341484715,
          0.8858923687316129,
          0.6734381603480143,
          0.6759717810512538,
          1.0182612834452922,
          0.5440160501208624,
          0.484180837537639,
          0.6548790607466041,
          1.0395479770147322,
          0.7673139503288018,
          0.685733653954266,
          0.7330138234617464,
          0.528074852327287,
          1.4611661813628598,
          0.6019637007821151,
          0.7201276654309127,
          0.8006812898409156,
          0.770659754173461,
          0.48228933125413675,
          0.6843081302445803,
          0.45789166537918535,
          0.7116059445450715,
          0.7193764447980762,
          0.5960281419680717,
          0.4162146547243439,
          0.5914165857597949,
          0.6385050492821941,
          2.0504990672313204,
          0.6639984922211709,
          0.767190020345922,
          0.5456691048198117,
          0.9628179422721828,
          0.6108766299002516,
          1.064273769744403,
          3.1074228689991137,
          0.48862034024843176,
          0.41736665327736566,
          0.5124162837938525,
          0.6572222719843906,
          1.2340081963771325,
          0.6366553791135329,
          0.5794726799701294
         ]
        }
       ],
       "layout": {
        "showlegend": false,
        "template": {
         "data": {
          "bar": [
           {
            "error_x": {
             "color": "#2a3f5f"
            },
            "error_y": {
             "color": "#2a3f5f"
            },
            "marker": {
             "line": {
              "color": "#E5ECF6",
              "width": 0.5
             },
             "pattern": {
              "fillmode": "overlay",
              "size": 10,
              "solidity": 0.2
             }
            },
            "type": "bar"
           }
          ],
          "barpolar": [
           {
            "marker": {
             "line": {
              "color": "#E5ECF6",
              "width": 0.5
             },
             "pattern": {
              "fillmode": "overlay",
              "size": 10,
              "solidity": 0.2
             }
            },
            "type": "barpolar"
           }
          ],
          "carpet": [
           {
            "aaxis": {
             "endlinecolor": "#2a3f5f",
             "gridcolor": "white",
             "linecolor": "white",
             "minorgridcolor": "white",
             "startlinecolor": "#2a3f5f"
            },
            "baxis": {
             "endlinecolor": "#2a3f5f",
             "gridcolor": "white",
             "linecolor": "white",
             "minorgridcolor": "white",
             "startlinecolor": "#2a3f5f"
            },
            "type": "carpet"
           }
          ],
          "choropleth": [
           {
            "colorbar": {
             "outlinewidth": 0,
             "ticks": ""
            },
            "type": "choropleth"
           }
          ],
          "contour": [
           {
            "colorbar": {
             "outlinewidth": 0,
             "ticks": ""
            },
            "colorscale": [
             [
              0,
              "#0d0887"
             ],
             [
              0.1111111111111111,
              "#46039f"
             ],
             [
              0.2222222222222222,
              "#7201a8"
             ],
             [
              0.3333333333333333,
              "#9c179e"
             ],
             [
              0.4444444444444444,
              "#bd3786"
             ],
             [
              0.5555555555555556,
              "#d8576b"
             ],
             [
              0.6666666666666666,
              "#ed7953"
             ],
             [
              0.7777777777777778,
              "#fb9f3a"
             ],
             [
              0.8888888888888888,
              "#fdca26"
             ],
             [
              1,
              "#f0f921"
             ]
            ],
            "type": "contour"
           }
          ],
          "contourcarpet": [
           {
            "colorbar": {
             "outlinewidth": 0,
             "ticks": ""
            },
            "type": "contourcarpet"
           }
          ],
          "heatmap": [
           {
            "colorbar": {
             "outlinewidth": 0,
             "ticks": ""
            },
            "colorscale": [
             [
              0,
              "#0d0887"
             ],
             [
              0.1111111111111111,
              "#46039f"
             ],
             [
              0.2222222222222222,
              "#7201a8"
             ],
             [
              0.3333333333333333,
              "#9c179e"
             ],
             [
              0.4444444444444444,
              "#bd3786"
             ],
             [
              0.5555555555555556,
              "#d8576b"
             ],
             [
              0.6666666666666666,
              "#ed7953"
             ],
             [
              0.7777777777777778,
              "#fb9f3a"
             ],
             [
              0.8888888888888888,
              "#fdca26"
             ],
             [
              1,
              "#f0f921"
             ]
            ],
            "type": "heatmap"
           }
          ],
          "heatmapgl": [
           {
            "colorbar": {
             "outlinewidth": 0,
             "ticks": ""
            },
            "colorscale": [
             [
              0,
              "#0d0887"
             ],
             [
              0.1111111111111111,
              "#46039f"
             ],
             [
              0.2222222222222222,
              "#7201a8"
             ],
             [
              0.3333333333333333,
              "#9c179e"
             ],
             [
              0.4444444444444444,
              "#bd3786"
             ],
             [
              0.5555555555555556,
              "#d8576b"
             ],
             [
              0.6666666666666666,
              "#ed7953"
             ],
             [
              0.7777777777777778,
              "#fb9f3a"
             ],
             [
              0.8888888888888888,
              "#fdca26"
             ],
             [
              1,
              "#f0f921"
             ]
            ],
            "type": "heatmapgl"
           }
          ],
          "histogram": [
           {
            "marker": {
             "pattern": {
              "fillmode": "overlay",
              "size": 10,
              "solidity": 0.2
             }
            },
            "type": "histogram"
           }
          ],
          "histogram2d": [
           {
            "colorbar": {
             "outlinewidth": 0,
             "ticks": ""
            },
            "colorscale": [
             [
              0,
              "#0d0887"
             ],
             [
              0.1111111111111111,
              "#46039f"
             ],
             [
              0.2222222222222222,
              "#7201a8"
             ],
             [
              0.3333333333333333,
              "#9c179e"
             ],
             [
              0.4444444444444444,
              "#bd3786"
             ],
             [
              0.5555555555555556,
              "#d8576b"
             ],
             [
              0.6666666666666666,
              "#ed7953"
             ],
             [
              0.7777777777777778,
              "#fb9f3a"
             ],
             [
              0.8888888888888888,
              "#fdca26"
             ],
             [
              1,
              "#f0f921"
             ]
            ],
            "type": "histogram2d"
           }
          ],
          "histogram2dcontour": [
           {
            "colorbar": {
             "outlinewidth": 0,
             "ticks": ""
            },
            "colorscale": [
             [
              0,
              "#0d0887"
             ],
             [
              0.1111111111111111,
              "#46039f"
             ],
             [
              0.2222222222222222,
              "#7201a8"
             ],
             [
              0.3333333333333333,
              "#9c179e"
             ],
             [
              0.4444444444444444,
              "#bd3786"
             ],
             [
              0.5555555555555556,
              "#d8576b"
             ],
             [
              0.6666666666666666,
              "#ed7953"
             ],
             [
              0.7777777777777778,
              "#fb9f3a"
             ],
             [
              0.8888888888888888,
              "#fdca26"
             ],
             [
              1,
              "#f0f921"
             ]
            ],
            "type": "histogram2dcontour"
           }
          ],
          "mesh3d": [
           {
            "colorbar": {
             "outlinewidth": 0,
             "ticks": ""
            },
            "type": "mesh3d"
           }
          ],
          "parcoords": [
           {
            "line": {
             "colorbar": {
              "outlinewidth": 0,
              "ticks": ""
             }
            },
            "type": "parcoords"
           }
          ],
          "pie": [
           {
            "automargin": true,
            "type": "pie"
           }
          ],
          "scatter": [
           {
            "fillpattern": {
             "fillmode": "overlay",
             "size": 10,
             "solidity": 0.2
            },
            "type": "scatter"
           }
          ],
          "scatter3d": [
           {
            "line": {
             "colorbar": {
              "outlinewidth": 0,
              "ticks": ""
             }
            },
            "marker": {
             "colorbar": {
              "outlinewidth": 0,
              "ticks": ""
             }
            },
            "type": "scatter3d"
           }
          ],
          "scattercarpet": [
           {
            "marker": {
             "colorbar": {
              "outlinewidth": 0,
              "ticks": ""
             }
            },
            "type": "scattercarpet"
           }
          ],
          "scattergeo": [
           {
            "marker": {
             "colorbar": {
              "outlinewidth": 0,
              "ticks": ""
             }
            },
            "type": "scattergeo"
           }
          ],
          "scattergl": [
           {
            "marker": {
             "colorbar": {
              "outlinewidth": 0,
              "ticks": ""
             }
            },
            "type": "scattergl"
           }
          ],
          "scattermapbox": [
           {
            "marker": {
             "colorbar": {
              "outlinewidth": 0,
              "ticks": ""
             }
            },
            "type": "scattermapbox"
           }
          ],
          "scatterpolar": [
           {
            "marker": {
             "colorbar": {
              "outlinewidth": 0,
              "ticks": ""
             }
            },
            "type": "scatterpolar"
           }
          ],
          "scatterpolargl": [
           {
            "marker": {
             "colorbar": {
              "outlinewidth": 0,
              "ticks": ""
             }
            },
            "type": "scatterpolargl"
           }
          ],
          "scatterternary": [
           {
            "marker": {
             "colorbar": {
              "outlinewidth": 0,
              "ticks": ""
             }
            },
            "type": "scatterternary"
           }
          ],
          "surface": [
           {
            "colorbar": {
             "outlinewidth": 0,
             "ticks": ""
            },
            "colorscale": [
             [
              0,
              "#0d0887"
             ],
             [
              0.1111111111111111,
              "#46039f"
             ],
             [
              0.2222222222222222,
              "#7201a8"
             ],
             [
              0.3333333333333333,
              "#9c179e"
             ],
             [
              0.4444444444444444,
              "#bd3786"
             ],
             [
              0.5555555555555556,
              "#d8576b"
             ],
             [
              0.6666666666666666,
              "#ed7953"
             ],
             [
              0.7777777777777778,
              "#fb9f3a"
             ],
             [
              0.8888888888888888,
              "#fdca26"
             ],
             [
              1,
              "#f0f921"
             ]
            ],
            "type": "surface"
           }
          ],
          "table": [
           {
            "cells": {
             "fill": {
              "color": "#EBF0F8"
             },
             "line": {
              "color": "white"
             }
            },
            "header": {
             "fill": {
              "color": "#C8D4E3"
             },
             "line": {
              "color": "white"
             }
            },
            "type": "table"
           }
          ]
         },
         "layout": {
          "annotationdefaults": {
           "arrowcolor": "#2a3f5f",
           "arrowhead": 0,
           "arrowwidth": 1
          },
          "autotypenumbers": "strict",
          "coloraxis": {
           "colorbar": {
            "outlinewidth": 0,
            "ticks": ""
           }
          },
          "colorscale": {
           "diverging": [
            [
             0,
             "#8e0152"
            ],
            [
             0.1,
             "#c51b7d"
            ],
            [
             0.2,
             "#de77ae"
            ],
            [
             0.3,
             "#f1b6da"
            ],
            [
             0.4,
             "#fde0ef"
            ],
            [
             0.5,
             "#f7f7f7"
            ],
            [
             0.6,
             "#e6f5d0"
            ],
            [
             0.7,
             "#b8e186"
            ],
            [
             0.8,
             "#7fbc41"
            ],
            [
             0.9,
             "#4d9221"
            ],
            [
             1,
             "#276419"
            ]
           ],
           "sequential": [
            [
             0,
             "#0d0887"
            ],
            [
             0.1111111111111111,
             "#46039f"
            ],
            [
             0.2222222222222222,
             "#7201a8"
            ],
            [
             0.3333333333333333,
             "#9c179e"
            ],
            [
             0.4444444444444444,
             "#bd3786"
            ],
            [
             0.5555555555555556,
             "#d8576b"
            ],
            [
             0.6666666666666666,
             "#ed7953"
            ],
            [
             0.7777777777777778,
             "#fb9f3a"
            ],
            [
             0.8888888888888888,
             "#fdca26"
            ],
            [
             1,
             "#f0f921"
            ]
           ],
           "sequentialminus": [
            [
             0,
             "#0d0887"
            ],
            [
             0.1111111111111111,
             "#46039f"
            ],
            [
             0.2222222222222222,
             "#7201a8"
            ],
            [
             0.3333333333333333,
             "#9c179e"
            ],
            [
             0.4444444444444444,
             "#bd3786"
            ],
            [
             0.5555555555555556,
             "#d8576b"
            ],
            [
             0.6666666666666666,
             "#ed7953"
            ],
            [
             0.7777777777777778,
             "#fb9f3a"
            ],
            [
             0.8888888888888888,
             "#fdca26"
            ],
            [
             1,
             "#f0f921"
            ]
           ]
          },
          "colorway": [
           "#636efa",
           "#EF553B",
           "#00cc96",
           "#ab63fa",
           "#FFA15A",
           "#19d3f3",
           "#FF6692",
           "#B6E880",
           "#FF97FF",
           "#FECB52"
          ],
          "font": {
           "color": "#2a3f5f"
          },
          "geo": {
           "bgcolor": "white",
           "lakecolor": "white",
           "landcolor": "#E5ECF6",
           "showlakes": true,
           "showland": true,
           "subunitcolor": "white"
          },
          "hoverlabel": {
           "align": "left"
          },
          "hovermode": "closest",
          "mapbox": {
           "style": "light"
          },
          "paper_bgcolor": "white",
          "plot_bgcolor": "#E5ECF6",
          "polar": {
           "angularaxis": {
            "gridcolor": "white",
            "linecolor": "white",
            "ticks": ""
           },
           "bgcolor": "#E5ECF6",
           "radialaxis": {
            "gridcolor": "white",
            "linecolor": "white",
            "ticks": ""
           }
          },
          "scene": {
           "xaxis": {
            "backgroundcolor": "#E5ECF6",
            "gridcolor": "white",
            "gridwidth": 2,
            "linecolor": "white",
            "showbackground": true,
            "ticks": "",
            "zerolinecolor": "white"
           },
           "yaxis": {
            "backgroundcolor": "#E5ECF6",
            "gridcolor": "white",
            "gridwidth": 2,
            "linecolor": "white",
            "showbackground": true,
            "ticks": "",
            "zerolinecolor": "white"
           },
           "zaxis": {
            "backgroundcolor": "#E5ECF6",
            "gridcolor": "white",
            "gridwidth": 2,
            "linecolor": "white",
            "showbackground": true,
            "ticks": "",
            "zerolinecolor": "white"
           }
          },
          "shapedefaults": {
           "line": {
            "color": "#2a3f5f"
           }
          },
          "ternary": {
           "aaxis": {
            "gridcolor": "white",
            "linecolor": "white",
            "ticks": ""
           },
           "baxis": {
            "gridcolor": "white",
            "linecolor": "white",
            "ticks": ""
           },
           "bgcolor": "#E5ECF6",
           "caxis": {
            "gridcolor": "white",
            "linecolor": "white",
            "ticks": ""
           }
          },
          "title": {
           "x": 0.05
          },
          "xaxis": {
           "automargin": true,
           "gridcolor": "white",
           "linecolor": "white",
           "ticks": "",
           "title": {
            "standoff": 15
           },
           "zerolinecolor": "white",
           "zerolinewidth": 2
          },
          "yaxis": {
           "automargin": true,
           "gridcolor": "white",
           "linecolor": "white",
           "ticks": "",
           "title": {
            "standoff": 15
           },
           "zerolinecolor": "white",
           "zerolinewidth": 2
          }
         }
        },
        "title": {
         "text": "High Prescription Codeine States"
        },
        "xaxis": {
         "title": {
          "text": "All Drugs (g/capita normalized by average county)"
         }
        },
        "yaxis": {
         "title": {
          "text": "Codeine (g/capita normalized by average county)"
         }
        }
       }
      },
      "text/html": [
       "<div>                        <script type=\"text/javascript\">window.PlotlyConfig = {MathJaxConfig: 'local'};</script>\n",
       "        <script charset=\"utf-8\" src=\"https://cdn.plot.ly/plotly-2.35.2.min.js\"></script>                <div id=\"17eff61b-5bdb-47de-b340-1ee80440542f\" class=\"plotly-graph-div\" style=\"height:100%; width:100%;\"></div>            <script type=\"text/javascript\">                                    window.PLOTLYENV=window.PLOTLYENV || {};                                    if (document.getElementById(\"17eff61b-5bdb-47de-b340-1ee80440542f\")) {                    Plotly.newPlot(                        \"17eff61b-5bdb-47de-b340-1ee80440542f\",                        [{\"marker\":{\"color\":\"blue\",\"size\":10},\"mode\":\"markers+text\",\"name\":\"States\",\"text\":[\"\",\"\",\"\",\"Arkansas\",\"\",\"\",\"\",\"\",\"\",\"\",\"\",\"\",\"\",\"\",\"\",\"\",\"\",\"\",\"\",\"\",\"\",\"Michigan\",\"\",\"\",\"\",\"\",\"\",\"\",\"\",\"\",\"\",\"\",\"\",\"\",\"\",\"Oklahoma\",\"\",\"\",\"\",\"\",\"\",\"\",\"Texas\",\"\",\"\",\"\",\"\",\"\",\"\",\"\"],\"textposition\":\"top center\",\"x\":[1.384751947574949,0.8164655097025574,1.219541408531164,1.391296368425977,1.0396894792696414,0.8139521052097489,0.8454129859267933,1.2096315949812704,1.0656846737558348,1.065984200207729,0.6894633993616822,0.9981389593996246,0.8384794478329609,1.0258099844630082,0.5838709018427644,0.9467555010499944,1.246722909679164,1.16374357205404,0.9303388392228549,1.0277356138580238,0.8435039863427997,1.2415621432185622,0.5878665524049578,1.05623312546876,1.1016062170624548,0.9186817495162557,0.5522171438963108,1.176509220302283,0.9493066180161456,0.9611203410830047,0.788980648097515,0.8128692346856473,1.1341392573394964,0.5793473031666245,0.8502797986607304,1.4481882790040734,1.0712031729420852,1.0694689249259293,0.9236216405510753,1.2044848093377167,0.537880608612906,1.6752628490084587,0.9057826306976229,1.2364072591350517,0.7476693987592572,0.9414909870057718,1.0090011801881993,1.1627789190222462,0.8230827574542896,0.9367248283485042],\"y\":[0.8992297623891273,0.771066054366228,0.7760360288944704,2.262134489505721,1.0319860257107385,0.448486547220951,0.5294326534556983,0.7358491732677505,0.6165707341484715,0.8858923687316129,0.6734381603480143,0.6759717810512538,1.0182612834452922,0.5440160501208624,0.484180837537639,0.6548790607466041,1.0395479770147322,0.7673139503288018,0.685733653954266,0.7330138234617464,0.528074852327287,1.4611661813628598,0.6019637007821151,0.7201276654309127,0.8006812898409156,0.770659754173461,0.48228933125413675,0.6843081302445803,0.45789166537918535,0.7116059445450715,0.7193764447980762,0.5960281419680717,0.4162146547243439,0.5914165857597949,0.6385050492821941,2.0504990672313204,0.6639984922211709,0.767190020345922,0.5456691048198117,0.9628179422721828,0.6108766299002516,1.064273769744403,3.1074228689991137,0.48862034024843176,0.41736665327736566,0.5124162837938525,0.6572222719843906,1.2340081963771325,0.6366553791135329,0.5794726799701294],\"type\":\"scatter\"}],                        {\"template\":{\"data\":{\"histogram2dcontour\":[{\"type\":\"histogram2dcontour\",\"colorbar\":{\"outlinewidth\":0,\"ticks\":\"\"},\"colorscale\":[[0.0,\"#0d0887\"],[0.1111111111111111,\"#46039f\"],[0.2222222222222222,\"#7201a8\"],[0.3333333333333333,\"#9c179e\"],[0.4444444444444444,\"#bd3786\"],[0.5555555555555556,\"#d8576b\"],[0.6666666666666666,\"#ed7953\"],[0.7777777777777778,\"#fb9f3a\"],[0.8888888888888888,\"#fdca26\"],[1.0,\"#f0f921\"]]}],\"choropleth\":[{\"type\":\"choropleth\",\"colorbar\":{\"outlinewidth\":0,\"ticks\":\"\"}}],\"histogram2d\":[{\"type\":\"histogram2d\",\"colorbar\":{\"outlinewidth\":0,\"ticks\":\"\"},\"colorscale\":[[0.0,\"#0d0887\"],[0.1111111111111111,\"#46039f\"],[0.2222222222222222,\"#7201a8\"],[0.3333333333333333,\"#9c179e\"],[0.4444444444444444,\"#bd3786\"],[0.5555555555555556,\"#d8576b\"],[0.6666666666666666,\"#ed7953\"],[0.7777777777777778,\"#fb9f3a\"],[0.8888888888888888,\"#fdca26\"],[1.0,\"#f0f921\"]]}],\"heatmap\":[{\"type\":\"heatmap\",\"colorbar\":{\"outlinewidth\":0,\"ticks\":\"\"},\"colorscale\":[[0.0,\"#0d0887\"],[0.1111111111111111,\"#46039f\"],[0.2222222222222222,\"#7201a8\"],[0.3333333333333333,\"#9c179e\"],[0.4444444444444444,\"#bd3786\"],[0.5555555555555556,\"#d8576b\"],[0.6666666666666666,\"#ed7953\"],[0.7777777777777778,\"#fb9f3a\"],[0.8888888888888888,\"#fdca26\"],[1.0,\"#f0f921\"]]}],\"heatmapgl\":[{\"type\":\"heatmapgl\",\"colorbar\":{\"outlinewidth\":0,\"ticks\":\"\"},\"colorscale\":[[0.0,\"#0d0887\"],[0.1111111111111111,\"#46039f\"],[0.2222222222222222,\"#7201a8\"],[0.3333333333333333,\"#9c179e\"],[0.4444444444444444,\"#bd3786\"],[0.5555555555555556,\"#d8576b\"],[0.6666666666666666,\"#ed7953\"],[0.7777777777777778,\"#fb9f3a\"],[0.8888888888888888,\"#fdca26\"],[1.0,\"#f0f921\"]]}],\"contourcarpet\":[{\"type\":\"contourcarpet\",\"colorbar\":{\"outlinewidth\":0,\"ticks\":\"\"}}],\"contour\":[{\"type\":\"contour\",\"colorbar\":{\"outlinewidth\":0,\"ticks\":\"\"},\"colorscale\":[[0.0,\"#0d0887\"],[0.1111111111111111,\"#46039f\"],[0.2222222222222222,\"#7201a8\"],[0.3333333333333333,\"#9c179e\"],[0.4444444444444444,\"#bd3786\"],[0.5555555555555556,\"#d8576b\"],[0.6666666666666666,\"#ed7953\"],[0.7777777777777778,\"#fb9f3a\"],[0.8888888888888888,\"#fdca26\"],[1.0,\"#f0f921\"]]}],\"surface\":[{\"type\":\"surface\",\"colorbar\":{\"outlinewidth\":0,\"ticks\":\"\"},\"colorscale\":[[0.0,\"#0d0887\"],[0.1111111111111111,\"#46039f\"],[0.2222222222222222,\"#7201a8\"],[0.3333333333333333,\"#9c179e\"],[0.4444444444444444,\"#bd3786\"],[0.5555555555555556,\"#d8576b\"],[0.6666666666666666,\"#ed7953\"],[0.7777777777777778,\"#fb9f3a\"],[0.8888888888888888,\"#fdca26\"],[1.0,\"#f0f921\"]]}],\"mesh3d\":[{\"type\":\"mesh3d\",\"colorbar\":{\"outlinewidth\":0,\"ticks\":\"\"}}],\"scatter\":[{\"fillpattern\":{\"fillmode\":\"overlay\",\"size\":10,\"solidity\":0.2},\"type\":\"scatter\"}],\"parcoords\":[{\"type\":\"parcoords\",\"line\":{\"colorbar\":{\"outlinewidth\":0,\"ticks\":\"\"}}}],\"scatterpolargl\":[{\"type\":\"scatterpolargl\",\"marker\":{\"colorbar\":{\"outlinewidth\":0,\"ticks\":\"\"}}}],\"bar\":[{\"error_x\":{\"color\":\"#2a3f5f\"},\"error_y\":{\"color\":\"#2a3f5f\"},\"marker\":{\"line\":{\"color\":\"#E5ECF6\",\"width\":0.5},\"pattern\":{\"fillmode\":\"overlay\",\"size\":10,\"solidity\":0.2}},\"type\":\"bar\"}],\"scattergeo\":[{\"type\":\"scattergeo\",\"marker\":{\"colorbar\":{\"outlinewidth\":0,\"ticks\":\"\"}}}],\"scatterpolar\":[{\"type\":\"scatterpolar\",\"marker\":{\"colorbar\":{\"outlinewidth\":0,\"ticks\":\"\"}}}],\"histogram\":[{\"marker\":{\"pattern\":{\"fillmode\":\"overlay\",\"size\":10,\"solidity\":0.2}},\"type\":\"histogram\"}],\"scattergl\":[{\"type\":\"scattergl\",\"marker\":{\"colorbar\":{\"outlinewidth\":0,\"ticks\":\"\"}}}],\"scatter3d\":[{\"type\":\"scatter3d\",\"line\":{\"colorbar\":{\"outlinewidth\":0,\"ticks\":\"\"}},\"marker\":{\"colorbar\":{\"outlinewidth\":0,\"ticks\":\"\"}}}],\"scattermapbox\":[{\"type\":\"scattermapbox\",\"marker\":{\"colorbar\":{\"outlinewidth\":0,\"ticks\":\"\"}}}],\"scatterternary\":[{\"type\":\"scatterternary\",\"marker\":{\"colorbar\":{\"outlinewidth\":0,\"ticks\":\"\"}}}],\"scattercarpet\":[{\"type\":\"scattercarpet\",\"marker\":{\"colorbar\":{\"outlinewidth\":0,\"ticks\":\"\"}}}],\"carpet\":[{\"aaxis\":{\"endlinecolor\":\"#2a3f5f\",\"gridcolor\":\"white\",\"linecolor\":\"white\",\"minorgridcolor\":\"white\",\"startlinecolor\":\"#2a3f5f\"},\"baxis\":{\"endlinecolor\":\"#2a3f5f\",\"gridcolor\":\"white\",\"linecolor\":\"white\",\"minorgridcolor\":\"white\",\"startlinecolor\":\"#2a3f5f\"},\"type\":\"carpet\"}],\"table\":[{\"cells\":{\"fill\":{\"color\":\"#EBF0F8\"},\"line\":{\"color\":\"white\"}},\"header\":{\"fill\":{\"color\":\"#C8D4E3\"},\"line\":{\"color\":\"white\"}},\"type\":\"table\"}],\"barpolar\":[{\"marker\":{\"line\":{\"color\":\"#E5ECF6\",\"width\":0.5},\"pattern\":{\"fillmode\":\"overlay\",\"size\":10,\"solidity\":0.2}},\"type\":\"barpolar\"}],\"pie\":[{\"automargin\":true,\"type\":\"pie\"}]},\"layout\":{\"autotypenumbers\":\"strict\",\"colorway\":[\"#636efa\",\"#EF553B\",\"#00cc96\",\"#ab63fa\",\"#FFA15A\",\"#19d3f3\",\"#FF6692\",\"#B6E880\",\"#FF97FF\",\"#FECB52\"],\"font\":{\"color\":\"#2a3f5f\"},\"hovermode\":\"closest\",\"hoverlabel\":{\"align\":\"left\"},\"paper_bgcolor\":\"white\",\"plot_bgcolor\":\"#E5ECF6\",\"polar\":{\"bgcolor\":\"#E5ECF6\",\"angularaxis\":{\"gridcolor\":\"white\",\"linecolor\":\"white\",\"ticks\":\"\"},\"radialaxis\":{\"gridcolor\":\"white\",\"linecolor\":\"white\",\"ticks\":\"\"}},\"ternary\":{\"bgcolor\":\"#E5ECF6\",\"aaxis\":{\"gridcolor\":\"white\",\"linecolor\":\"white\",\"ticks\":\"\"},\"baxis\":{\"gridcolor\":\"white\",\"linecolor\":\"white\",\"ticks\":\"\"},\"caxis\":{\"gridcolor\":\"white\",\"linecolor\":\"white\",\"ticks\":\"\"}},\"coloraxis\":{\"colorbar\":{\"outlinewidth\":0,\"ticks\":\"\"}},\"colorscale\":{\"sequential\":[[0.0,\"#0d0887\"],[0.1111111111111111,\"#46039f\"],[0.2222222222222222,\"#7201a8\"],[0.3333333333333333,\"#9c179e\"],[0.4444444444444444,\"#bd3786\"],[0.5555555555555556,\"#d8576b\"],[0.6666666666666666,\"#ed7953\"],[0.7777777777777778,\"#fb9f3a\"],[0.8888888888888888,\"#fdca26\"],[1.0,\"#f0f921\"]],\"sequentialminus\":[[0.0,\"#0d0887\"],[0.1111111111111111,\"#46039f\"],[0.2222222222222222,\"#7201a8\"],[0.3333333333333333,\"#9c179e\"],[0.4444444444444444,\"#bd3786\"],[0.5555555555555556,\"#d8576b\"],[0.6666666666666666,\"#ed7953\"],[0.7777777777777778,\"#fb9f3a\"],[0.8888888888888888,\"#fdca26\"],[1.0,\"#f0f921\"]],\"diverging\":[[0,\"#8e0152\"],[0.1,\"#c51b7d\"],[0.2,\"#de77ae\"],[0.3,\"#f1b6da\"],[0.4,\"#fde0ef\"],[0.5,\"#f7f7f7\"],[0.6,\"#e6f5d0\"],[0.7,\"#b8e186\"],[0.8,\"#7fbc41\"],[0.9,\"#4d9221\"],[1,\"#276419\"]]},\"xaxis\":{\"gridcolor\":\"white\",\"linecolor\":\"white\",\"ticks\":\"\",\"title\":{\"standoff\":15},\"zerolinecolor\":\"white\",\"automargin\":true,\"zerolinewidth\":2},\"yaxis\":{\"gridcolor\":\"white\",\"linecolor\":\"white\",\"ticks\":\"\",\"title\":{\"standoff\":15},\"zerolinecolor\":\"white\",\"automargin\":true,\"zerolinewidth\":2},\"scene\":{\"xaxis\":{\"backgroundcolor\":\"#E5ECF6\",\"gridcolor\":\"white\",\"linecolor\":\"white\",\"showbackground\":true,\"ticks\":\"\",\"zerolinecolor\":\"white\",\"gridwidth\":2},\"yaxis\":{\"backgroundcolor\":\"#E5ECF6\",\"gridcolor\":\"white\",\"linecolor\":\"white\",\"showbackground\":true,\"ticks\":\"\",\"zerolinecolor\":\"white\",\"gridwidth\":2},\"zaxis\":{\"backgroundcolor\":\"#E5ECF6\",\"gridcolor\":\"white\",\"linecolor\":\"white\",\"showbackground\":true,\"ticks\":\"\",\"zerolinecolor\":\"white\",\"gridwidth\":2}},\"shapedefaults\":{\"line\":{\"color\":\"#2a3f5f\"}},\"annotationdefaults\":{\"arrowcolor\":\"#2a3f5f\",\"arrowhead\":0,\"arrowwidth\":1},\"geo\":{\"bgcolor\":\"white\",\"landcolor\":\"#E5ECF6\",\"subunitcolor\":\"white\",\"showland\":true,\"showlakes\":true,\"lakecolor\":\"white\"},\"title\":{\"x\":0.05},\"mapbox\":{\"style\":\"light\"}}},\"title\":{\"text\":\"High Prescription Codeine States\"},\"xaxis\":{\"title\":{\"text\":\"All Drugs (g\\u002fcapita normalized by average county)\"}},\"yaxis\":{\"title\":{\"text\":\"Codeine (g\\u002fcapita normalized by average county)\"}},\"showlegend\":false},                        {\"responsive\": true}                    )                };                            </script>        </div>"
      ],
      "text/plain": [
       "Figure({\n",
       "    'data': [{'marker': {'color': 'blue', 'size': 10},\n",
       "              'mode': 'markers+text',\n",
       "              'name': 'States',\n",
       "              'text': [, , , Arkansas, , , , , , , , , , , , , , , , , , Michigan,\n",
       "                       , , , , , , , , , , , , , Oklahoma, , , , , , , Texas, , , ,\n",
       "                       , , , ],\n",
       "              'textposition': 'top center',\n",
       "              'type': 'scatter',\n",
       "              'x': [1.384751947574949, 0.8164655097025574, 1.219541408531164,\n",
       "                    1.391296368425977, 1.0396894792696414, 0.8139521052097489,\n",
       "                    0.8454129859267933, 1.2096315949812704, 1.0656846737558348,\n",
       "                    1.065984200207729, 0.6894633993616822, 0.9981389593996246,\n",
       "                    0.8384794478329609, 1.0258099844630082, 0.5838709018427644,\n",
       "                    0.9467555010499944, 1.246722909679164, 1.16374357205404,\n",
       "                    0.9303388392228549, 1.0277356138580238, 0.8435039863427997,\n",
       "                    1.2415621432185622, 0.5878665524049578, 1.05623312546876,\n",
       "                    1.1016062170624548, 0.9186817495162557, 0.5522171438963108,\n",
       "                    1.176509220302283, 0.9493066180161456, 0.9611203410830047,\n",
       "                    0.788980648097515, 0.8128692346856473, 1.1341392573394964,\n",
       "                    0.5793473031666245, 0.8502797986607304, 1.4481882790040734,\n",
       "                    1.0712031729420852, 1.0694689249259293, 0.9236216405510753,\n",
       "                    1.2044848093377167, 0.537880608612906, 1.6752628490084587,\n",
       "                    0.9057826306976229, 1.2364072591350517, 0.7476693987592572,\n",
       "                    0.9414909870057718, 1.0090011801881993, 1.1627789190222462,\n",
       "                    0.8230827574542896, 0.9367248283485042],\n",
       "              'y': [0.8992297623891273, 0.771066054366228, 0.7760360288944704,\n",
       "                    2.262134489505721, 1.0319860257107385, 0.448486547220951,\n",
       "                    0.5294326534556983, 0.7358491732677505, 0.6165707341484715,\n",
       "                    0.8858923687316129, 0.6734381603480143, 0.6759717810512538,\n",
       "                    1.0182612834452922, 0.5440160501208624, 0.484180837537639,\n",
       "                    0.6548790607466041, 1.0395479770147322, 0.7673139503288018,\n",
       "                    0.685733653954266, 0.7330138234617464, 0.528074852327287,\n",
       "                    1.4611661813628598, 0.6019637007821151, 0.7201276654309127,\n",
       "                    0.8006812898409156, 0.770659754173461, 0.48228933125413675,\n",
       "                    0.6843081302445803, 0.45789166537918535, 0.7116059445450715,\n",
       "                    0.7193764447980762, 0.5960281419680717, 0.4162146547243439,\n",
       "                    0.5914165857597949, 0.6385050492821941, 2.0504990672313204,\n",
       "                    0.6639984922211709, 0.767190020345922, 0.5456691048198117,\n",
       "                    0.9628179422721828, 0.6108766299002516, 1.064273769744403,\n",
       "                    3.1074228689991137, 0.48862034024843176, 0.41736665327736566,\n",
       "                    0.5124162837938525, 0.6572222719843906, 1.2340081963771325,\n",
       "                    0.6366553791135329, 0.5794726799701294]}],\n",
       "    'layout': {'showlegend': False,\n",
       "               'template': '...',\n",
       "               'title': {'text': 'High Prescription Codeine States'},\n",
       "               'xaxis': {'title': {'text': 'All Drugs (g/capita normalized by average county)'}},\n",
       "               'yaxis': {'title': {'text': 'Codeine (g/capita normalized by average county)'}}}\n",
       "})"
      ]
     },
     "execution_count": 148,
     "metadata": {},
     "output_type": "execute_result"
    }
   ],
   "source": [
    "import plotly.graph_objects as go\n",
    "\n",
    "# Create Scatter Plot\n",
    "fig = go.Figure()\n",
    "\n",
    "# Add scatter points\n",
    "fig.add_trace(go.Scatter(\n",
    "    x=all_values,\n",
    "    y=codeine_values,\n",
    "    mode='markers+text',\n",
    "    text=[state if state == 'TX' or codeine_values[i] > 1.25 else \"\" for i, state in enumerate(states)],\n",
    "    textposition='top center',\n",
    "    marker=dict(size=10, color='blue'),\n",
    "    name=\"States\"\n",
    "))\n",
    "\n",
    "# Add labels and title\n",
    "fig.update_layout(\n",
    "    title='High Prescription Codeine States',\n",
    "    xaxis_title='All Drugs (g/capita normalized by average county)',\n",
    "    yaxis_title='Codeine (g/capita normalized by average county)',\n",
    "    showlegend=False\n",
    ")\n",
    "\n",
    "# Show Plot\n",
    "# fig.show()"
   ]
  },
  {
   "cell_type": "code",
   "execution_count": null,
   "metadata": {},
   "outputs": [],
   "source": [
    "single_state = 'Texas'\n",
    "number_of_counties_per_date_st = df_drug[df_drug['state'] == single_state].groupby(['Date'])['placeDcid'].count().reset_index()\n",
    "number_of_counties_per_date_st.columns = ['Date', 'num_counties']"
   ]
  },
  {
   "cell_type": "code",
   "execution_count": 99,
   "metadata": {},
   "outputs": [],
   "source": [
    "## sums across all counties\n",
    "grouped_df_drug_st = df_drug[df_drug['state'] == single_state].groupby(['Date']).sum().reset_index()\n",
    "grouped_df_drug_all = df_drug.groupby(['Date']).sum().reset_index()\n",
    "## divide all columns except Date by the number of counties\n",
    "for drug in DRUG_NAMES:\n",
    "    grouped_df_drug_st[drug] = grouped_df_drug_st[drug] / number_of_counties_per_date_st['num_counties']\n",
    "    grouped_df_drug_all[drug] = grouped_df_drug_all[drug] / number_of_counties_per_date['num_counties']"
   ]
  },
  {
   "cell_type": "code",
   "execution_count": null,
   "metadata": {},
   "outputs": [
    {
     "data": {
      "image/png": "[encoded data removed]",
      "text/plain": [
       "<Figure size 640x480 with 1 Axes>"
      ]
     },
     "metadata": {},
     "output_type": "display_data"
    }
   ],
   "source": [
    "# plt.plot(grouped_df_drug['Date'], grouped_df_drug['US_Amphetamine'], label='US_Amphetamine')\n",
    "plt.plot(grouped_df_drug_st['Date'], grouped_df_drug_st['US_Codeine'], label='Codeine')\n",
    "plt.plot(grouped_df_drug_st['Date'], grouped_df_drug_st['US_Hydrocodone'], label='Hydrocodone')\n",
    "# plt.plot(grouped_df_drug['Date'], grouped_df_drug['US_Morphine'], label='US_Morphine')\n",
    "# plt.plot(grouped_df_drug['Date'], grouped_df_drug['US_Oxycodone'], label='US_Oxycodone')\n",
    "# plt.plot(grouped_df_drug['Date'], grouped_df_drug[['US_Amphetamine', 'US_Codeine', 'US_Hydrocodone', 'US_Morphine', 'US_Oxycodone']].sum(axis=1), label='total')\n",
    "plt.plot(grouped_df_drug_st['Date'], grouped_df_drug_st[['US_Codeine', 'US_Hydrocodone']].sum(axis=1), label='Codeine + Hydrocodone')\n",
    "plt.legend()\n",
    "\n",
    "# only display certain dates in x axis:\n",
    "plt.title(f'Opioid Prescriptions in {single_state}')\n",
    "plt.xticks(ticks=range(0, len(grouped_df_drug_st['Date']), 4), labels=grouped_df_drug_st['Date'][::4], rotation=90)\n",
    "plt.ylabel('total retail, average g/capita in a county')\n",
    "plt.show()"
   ]
  },
  {
   "cell_type": "code",
   "execution_count": 26,
   "metadata": {},
   "outputs": [],
   "source": [
    "import numpy as np"
   ]
  },
  {
   "cell_type": "code",
   "execution_count": null,
   "metadata": {},
   "outputs": [
    {
     "data": {
      "text/plain": [
       "48"
      ]
     },
     "execution_count": 28,
     "metadata": {},
     "output_type": "execute_result"
    }
   ],
   "source": [
    "len(grouped_df_drug)"
   ]
  },
  {
   "cell_type": "code",
   "execution_count": 58,
   "metadata": {},
   "outputs": [
    {
     "data": {
      "image/png": "[encoded data removed]",
      "text/plain": [
       "<Figure size 640x480 with 2 Axes>"
      ]
     },
     "metadata": {},
     "output_type": "display_data"
    }
   ],
   "source": [
    "cov = np.cov(np.stack((grouped_df_drug['US_Amphetamine'], grouped_df_drug['US_Codeine'], grouped_df_drug['US_Hydrocodone'], grouped_df_drug['US_Morphine'], grouped_df_drug['US_Oxycodone']), axis=0))\n",
    "plt.imshow(cov, cmap='viridis', interpolation='nearest')\n",
    "plt.colorbar(label='Covariance Value')\n",
    "plt.title('Covariance Matrix Heatmap')\n",
    "# label categories\n",
    "plt.yticks(ticks=[0, 1, 2, 3, 4], labels=['Amphetamine', 'Codeine', 'Hydrocodone', 'Morphine', 'Oxycodone'])\n",
    "plt.xticks(ticks=[0, 1, 2, 3, 4], labels=['Amphetamine', 'Codeine', 'Hydrocodone', 'Morphine', 'Oxycodone'])\n",
    "# provide more space for the plot\n",
    "plt.tight_layout()\n",
    "plt.show()"
   ]
  },
  {
   "cell_type": "code",
   "execution_count": 49,
   "metadata": {},
   "outputs": [
    {
     "name": "stdout",
     "output_type": "stream",
     "text": [
      "Max Auto-Correlation: auto_corrs[0]: 0.006308447648044379\n"
     ]
    },
    {
     "data": {
      "image/png": "[encoded data removed]",
      "text/plain": [
       "<Figure size 640x480 with 1 Axes>"
      ]
     },
     "metadata": {},
     "output_type": "display_data"
    }
   ],
   "source": [
    "auto_corrs = np.correlate(grouped_df_drug['US_Codeine'], grouped_df_drug['US_Amphetamine'], mode='full')\n",
    "auto_corrs = np.abs(auto_corrs[len(grouped_df_drug) - 1:])\n",
    "i = np.argmax(auto_corrs)\n",
    "print(f'Max Auto-Correlation: auto_corrs[{i}]: {auto_corrs[i]}')\n",
    "plt.plot(auto_corrs)\n",
    "plt.show()"
   ]
  },
  {
   "cell_type": "code",
   "execution_count": 50,
   "metadata": {},
   "outputs": [
    {
     "data": {
      "text/html": [
       "<div>\n",
       "<style scoped>\n",
       "    .dataframe tbody tr th:only-of-type {\n",
       "        vertical-align: middle;\n",
       "    }\n",
       "\n",
       "    .dataframe tbody tr th {\n",
       "        vertical-align: top;\n",
       "    }\n",
       "\n",
       "    .dataframe thead th {\n",
       "        text-align: right;\n",
       "    }\n",
       "</style>\n",
       "<table border=\"1\" class=\"dataframe\">\n",
       "  <thead>\n",
       "    <tr style=\"text-align: right;\">\n",
       "      <th></th>\n",
       "      <th>placeDcid</th>\n",
       "      <th>placeName</th>\n",
       "      <th>Date</th>\n",
       "      <th>US_Amphetamine</th>\n",
       "      <th>US_Codeine</th>\n",
       "      <th>US_Hydrocodone</th>\n",
       "      <th>US_Morphine</th>\n",
       "      <th>US_Oxycodone</th>\n",
       "      <th>state</th>\n",
       "      <th>Year</th>\n",
       "      <th>FIPS</th>\n",
       "      <th>population</th>\n",
       "    </tr>\n",
       "  </thead>\n",
       "  <tbody>\n",
       "    <tr>\n",
       "      <th>0</th>\n",
       "      <td>geoId/01001</td>\n",
       "      <td>Autauga County</td>\n",
       "      <td>2006-01</td>\n",
       "      <td>0.006142</td>\n",
       "      <td>0.009288</td>\n",
       "      <td>0.030237</td>\n",
       "      <td>0.009621</td>\n",
       "      <td>0.014665</td>\n",
       "      <td>Alabama</td>\n",
       "      <td>2006</td>\n",
       "      <td>01001</td>\n",
       "      <td>49105.0</td>\n",
       "    </tr>\n",
       "    <tr>\n",
       "      <th>1</th>\n",
       "      <td>geoId/01001</td>\n",
       "      <td>Autauga County</td>\n",
       "      <td>2006-04</td>\n",
       "      <td>0.005641</td>\n",
       "      <td>0.010184</td>\n",
       "      <td>0.033431</td>\n",
       "      <td>0.010898</td>\n",
       "      <td>0.015806</td>\n",
       "      <td>Alabama</td>\n",
       "      <td>2006</td>\n",
       "      <td>01001</td>\n",
       "      <td>49105.0</td>\n",
       "    </tr>\n",
       "    <tr>\n",
       "      <th>2</th>\n",
       "      <td>geoId/01001</td>\n",
       "      <td>Autauga County</td>\n",
       "      <td>2006-07</td>\n",
       "      <td>0.005705</td>\n",
       "      <td>0.009007</td>\n",
       "      <td>0.033811</td>\n",
       "      <td>0.009363</td>\n",
       "      <td>0.014405</td>\n",
       "      <td>Alabama</td>\n",
       "      <td>2006</td>\n",
       "      <td>01001</td>\n",
       "      <td>49105.0</td>\n",
       "    </tr>\n",
       "    <tr>\n",
       "      <th>3</th>\n",
       "      <td>geoId/01001</td>\n",
       "      <td>Autauga County</td>\n",
       "      <td>2006-10</td>\n",
       "      <td>0.006587</td>\n",
       "      <td>0.008664</td>\n",
       "      <td>0.040262</td>\n",
       "      <td>0.009919</td>\n",
       "      <td>0.015670</td>\n",
       "      <td>Alabama</td>\n",
       "      <td>2006</td>\n",
       "      <td>01001</td>\n",
       "      <td>49105.0</td>\n",
       "    </tr>\n",
       "    <tr>\n",
       "      <th>4</th>\n",
       "      <td>geoId/01001</td>\n",
       "      <td>Autauga County</td>\n",
       "      <td>2007-01</td>\n",
       "      <td>0.006862</td>\n",
       "      <td>0.008974</td>\n",
       "      <td>0.039931</td>\n",
       "      <td>0.010602</td>\n",
       "      <td>0.015328</td>\n",
       "      <td>Alabama</td>\n",
       "      <td>2007</td>\n",
       "      <td>01001</td>\n",
       "      <td>49834.0</td>\n",
       "    </tr>\n",
       "    <tr>\n",
       "      <th>...</th>\n",
       "      <td>...</td>\n",
       "      <td>...</td>\n",
       "      <td>...</td>\n",
       "      <td>...</td>\n",
       "      <td>...</td>\n",
       "      <td>...</td>\n",
       "      <td>...</td>\n",
       "      <td>...</td>\n",
       "      <td>...</td>\n",
       "      <td>...</td>\n",
       "      <td>...</td>\n",
       "      <td>...</td>\n",
       "    </tr>\n",
       "    <tr>\n",
       "      <th>150763</th>\n",
       "      <td>geoId/56045</td>\n",
       "      <td>Weston County</td>\n",
       "      <td>2016-10</td>\n",
       "      <td>0.008229</td>\n",
       "      <td>0.006252</td>\n",
       "      <td>0.014293</td>\n",
       "      <td>0.005815</td>\n",
       "      <td>0.022133</td>\n",
       "      <td>Wyoming</td>\n",
       "      <td>2016</td>\n",
       "      <td>56045</td>\n",
       "      <td>7228.0</td>\n",
       "    </tr>\n",
       "    <tr>\n",
       "      <th>150764</th>\n",
       "      <td>geoId/56045</td>\n",
       "      <td>Weston County</td>\n",
       "      <td>2017-01</td>\n",
       "      <td>0.008380</td>\n",
       "      <td>0.006658</td>\n",
       "      <td>0.014476</td>\n",
       "      <td>0.006185</td>\n",
       "      <td>0.022040</td>\n",
       "      <td>Wyoming</td>\n",
       "      <td>2017</td>\n",
       "      <td>56045</td>\n",
       "      <td>6962.0</td>\n",
       "    </tr>\n",
       "    <tr>\n",
       "      <th>150765</th>\n",
       "      <td>geoId/56045</td>\n",
       "      <td>Weston County</td>\n",
       "      <td>2017-04</td>\n",
       "      <td>0.007799</td>\n",
       "      <td>0.004660</td>\n",
       "      <td>0.013719</td>\n",
       "      <td>0.007518</td>\n",
       "      <td>0.022126</td>\n",
       "      <td>Wyoming</td>\n",
       "      <td>2017</td>\n",
       "      <td>56045</td>\n",
       "      <td>6962.0</td>\n",
       "    </tr>\n",
       "    <tr>\n",
       "      <th>150766</th>\n",
       "      <td>geoId/56045</td>\n",
       "      <td>Weston County</td>\n",
       "      <td>2017-07</td>\n",
       "      <td>0.009046</td>\n",
       "      <td>0.005172</td>\n",
       "      <td>0.013194</td>\n",
       "      <td>0.005415</td>\n",
       "      <td>0.020496</td>\n",
       "      <td>Wyoming</td>\n",
       "      <td>2017</td>\n",
       "      <td>56045</td>\n",
       "      <td>6962.0</td>\n",
       "    </tr>\n",
       "    <tr>\n",
       "      <th>150767</th>\n",
       "      <td>geoId/56045</td>\n",
       "      <td>Weston County</td>\n",
       "      <td>2017-10</td>\n",
       "      <td>0.008358</td>\n",
       "      <td>0.005840</td>\n",
       "      <td>0.012970</td>\n",
       "      <td>0.006411</td>\n",
       "      <td>0.020569</td>\n",
       "      <td>Wyoming</td>\n",
       "      <td>2017</td>\n",
       "      <td>56045</td>\n",
       "      <td>6962.0</td>\n",
       "    </tr>\n",
       "  </tbody>\n",
       "</table>\n",
       "<p>150656 rows × 12 columns</p>\n",
       "</div>"
      ],
      "text/plain": [
       "          placeDcid       placeName     Date  US_Amphetamine  US_Codeine  \\\n",
       "0       geoId/01001  Autauga County  2006-01        0.006142    0.009288   \n",
       "1       geoId/01001  Autauga County  2006-04        0.005641    0.010184   \n",
       "2       geoId/01001  Autauga County  2006-07        0.005705    0.009007   \n",
       "3       geoId/01001  Autauga County  2006-10        0.006587    0.008664   \n",
       "4       geoId/01001  Autauga County  2007-01        0.006862    0.008974   \n",
       "...             ...             ...      ...             ...         ...   \n",
       "150763  geoId/56045   Weston County  2016-10        0.008229    0.006252   \n",
       "150764  geoId/56045   Weston County  2017-01        0.008380    0.006658   \n",
       "150765  geoId/56045   Weston County  2017-04        0.007799    0.004660   \n",
       "150766  geoId/56045   Weston County  2017-07        0.009046    0.005172   \n",
       "150767  geoId/56045   Weston County  2017-10        0.008358    0.005840   \n",
       "\n",
       "        US_Hydrocodone  US_Morphine  US_Oxycodone    state  Year   FIPS  \\\n",
       "0             0.030237     0.009621      0.014665  Alabama  2006  01001   \n",
       "1             0.033431     0.010898      0.015806  Alabama  2006  01001   \n",
       "2             0.033811     0.009363      0.014405  Alabama  2006  01001   \n",
       "3             0.040262     0.009919      0.015670  Alabama  2006  01001   \n",
       "4             0.039931     0.010602      0.015328  Alabama  2007  01001   \n",
       "...                ...          ...           ...      ...   ...    ...   \n",
       "150763        0.014293     0.005815      0.022133  Wyoming  2016  56045   \n",
       "150764        0.014476     0.006185      0.022040  Wyoming  2017  56045   \n",
       "150765        0.013719     0.007518      0.022126  Wyoming  2017  56045   \n",
       "150766        0.013194     0.005415      0.020496  Wyoming  2017  56045   \n",
       "150767        0.012970     0.006411      0.020569  Wyoming  2017  56045   \n",
       "\n",
       "        population  \n",
       "0          49105.0  \n",
       "1          49105.0  \n",
       "2          49105.0  \n",
       "3          49105.0  \n",
       "4          49834.0  \n",
       "...            ...  \n",
       "150763      7228.0  \n",
       "150764      6962.0  \n",
       "150765      6962.0  \n",
       "150766      6962.0  \n",
       "150767      6962.0  \n",
       "\n",
       "[150656 rows x 12 columns]"
      ]
     },
     "execution_count": 50,
     "metadata": {},
     "output_type": "execute_result"
    }
   ],
   "source": [
    "df_drug"
   ]
  },
  {
   "cell_type": "code",
   "execution_count": null,
   "metadata": {},
   "outputs": [],
   "source": []
  }
 ],
 "metadata": {
  "kernelspec": {
   "display_name": "2023",
   "language": "python",
   "name": "python3"
  },
  "language_info": {
   "codemirror_mode": {
    "name": "ipython",
    "version": 3
   },
   "file_extension": ".py",
   "mimetype": "text/x-python",
   "name": "python",
   "nbconvert_exporter": "python",
   "pygments_lexer": "ipython3",
   "version": "3.11.4"
  }
 },
 "nbformat": 4,
 "nbformat_minor": 2
}
